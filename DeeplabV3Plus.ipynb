{
 "cells": [
  {
   "cell_type": "code",
   "execution_count": 3,
   "metadata": {},
   "outputs": [
    {
     "data": {
      "image/png": "[encoded data removed]",
      "text/plain": [
       "<Figure size 720x720 with 2 Axes>"
      ]
     },
     "metadata": {
      "needs_background": "light"
     },
     "output_type": "display_data"
    }
   ],
   "source": [
    "from matplotlib import pyplot as pylab\n",
    "import cv2\n",
    "import numpy as np\n",
    "import os\n",
    "\n",
    "from model import Deeplabv3\n",
    "\n",
    "deeplab_model = Deeplabv3()\n",
    "\n",
    "# input directory\n",
    "pathIn = \"imgs\"\n",
    "\n",
    "# output directory\n",
    "pathOut = \"output\"\n",
    "\n",
    "# define params\n",
    "trained_img_width = 512.\n",
    "mean_subtraction_value = 127.5\n",
    "\n",
    "# if the output directory does not exist, create it\n",
    "if not os.path.exists(pathOut):\n",
    "    os.makedirs(pathOut)\n",
    "    \n",
    "img = pylab.imread(pathIn + \"/image1.jpg\")\n",
    "\n",
    "# grab shape of the input image\n",
    "w, h, _ = img.shape\n",
    "\n",
    "# resize the input image\n",
    "ratio = trained_img_width / np.max([w, h])\n",
    "resized = cv2.resize(img, (int(ratio*h), int(ratio*w)))\n",
    "\n",
    "# normalize the resized image\n",
    "resized = resized / mean_subtraction_value - 1.\n",
    "\n",
    "# pad array to square image to match training imgs\n",
    "pad_x = int(trained_img_width - resized.shape[0])\n",
    "resized2 = np.pad(resized, ((0, pad_x), (0, 0), (0, 0)), mode='constant')\n",
    "\n",
    "# make prediction\n",
    "res = deeplab_model.predict(np.expand_dims(resized2, 0))\n",
    "labels = np.argmax(res.squeeze(), -1)\n",
    "\n",
    "# plot sample images\n",
    "pylab.figure(figsize=(10,10))\n",
    "pylab.imshow(labels[:-pad_x], cmap='inferno')\n",
    "pylab.axis('off')\n",
    "pylab.colorbar()\n",
    "pylab.show()\n",
    "pylab.savefig(\"segmented.jpg\", bbox_inches='tight', pad_inches=0)\n",
    "pylab.close()"
   ]
  },
  {
   "cell_type": "code",
   "execution_count": null,
   "metadata": {},
   "outputs": [],
   "source": []
  }
 ],
 "metadata": {
  "kernelspec": {
   "display_name": "Python 3",
   "language": "python",
   "name": "python3"
  },
  "language_info": {
   "codemirror_mode": {
    "name": "ipython",
    "version": 3
   },
   "file_extension": ".py",
   "mimetype": "text/x-python",
   "name": "python",
   "nbconvert_exporter": "python",
   "pygments_lexer": "ipython3",
   "version": "3.7.3"
  }
 },
 "nbformat": 4,
 "nbformat_minor": 2
}
